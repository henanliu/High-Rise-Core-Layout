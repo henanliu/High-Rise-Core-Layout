{
  "nbformat": 4,
  "nbformat_minor": 0,
  "metadata": {
    "colab": {
      "provenance": [],
      "authorship_tag": "ABX9TyNey4uA7OTyMMcJFUW8uG60",
      "include_colab_link": true
    },
    "kernelspec": {
      "name": "python3",
      "display_name": "Python 3"
    },
    "language_info": {
      "name": "python"
    }
  },
  "cells": [
    {
      "cell_type": "markdown",
      "metadata": {
        "id": "view-in-github",
        "colab_type": "text"
      },
      "source": [
        "<a href=\"https://colab.research.google.com/github/henanliu/HIGH-RISE-CORE-LAYOUT/blob/main/CORE_LAYOUT_MULTI_LOBBIES.ipynb\" target=\"_parent\"><img src=\"https://colab.research.google.com/assets/colab-badge.svg\" alt=\"Open In Colab\"/></a>"
      ]
    },
    {
      "cell_type": "code",
      "execution_count": null,
      "metadata": {
        "id": "t2p3Z3dPWBqY"
      },
      "outputs": [],
      "source": [
        "import numpy as np\n",
        "import math\n",
        "import matplotlib.pyplot as plt\n",
        "import random as rnd\n",
        "import seaborn as sns\n",
        "import pandas as pd\n",
        "from scipy.cluster.hierarchy import dendrogram, linkage, fcluster\n",
        "from google.colab import files\n",
        "import time\n",
        "from tqdm import tqdm\n",
        "from scipy.spatial.distance import cdist"
      ]
    },
    {
      "cell_type": "code",
      "source": [
        "from google.colab import drive\n",
        "drive.mount('/content/gdrive')"
      ],
      "metadata": {
        "colab": {
          "base_uri": "https://localhost:8080/"
        },
        "id": "OqIT4Kssol60",
        "outputId": "2e8edff2-a0ba-494e-fd62-7eba9edb9c30"
      },
      "execution_count": null,
      "outputs": [
        {
          "output_type": "stream",
          "name": "stdout",
          "text": [
            "Mounted at /content/gdrive\n"
          ]
        }
      ]
    },
    {
      "cell_type": "code",
      "source": [
        "#THEM CELLS, BRUH\n",
        "class cell():\n",
        "  def __init__(self,row,col,maxRow,maxCol):\n",
        "    self.row = row\n",
        "    self.col = col\n",
        "    self.loc = [row,col]\n",
        "    self.program = 0\n",
        "    self.access = 0\n",
        "    self.accessOut = 0\n",
        "    self.maxRow = maxRow\n",
        "    self.maxCol = maxCol\n",
        "    self.corner = 0\n",
        "    self.lstNeighbor = []\n",
        "    self.detectBound()\n",
        "    self.detectNeighbor()\n",
        "    self.detectCorner()\n",
        "\n",
        "  def assign(self,program,mapCore):\n",
        "    self.program = program\n",
        "    mapCore[self.row,self.col] = program\n",
        "  \n",
        "  def refresh(self):\n",
        "    self.program = 0\n",
        "\n",
        "  def detectBound(self):\n",
        "    if self.row == 0 or self.row == self.maxRow -1 or self.col == 0 or self.col == self.maxCol - 1:\n",
        "      self.access = 1\n",
        "      self.accessOut = 1\n",
        "    return self.access, self.accessOut\n",
        "  \n",
        "  def detectCorner(self):\n",
        "    if self.row == 0 or self.row == self.maxRow - 1:\n",
        "      if self.col == 0 or self.col == self.maxCol - 1:\n",
        "        self.corner = 1\n",
        "    return self.corner\n",
        "\n",
        "  def detectAccess(self,lstCell):\n",
        "    for i,coordinates in enumerate(self.lstNeighbor):\n",
        "      iRow = coordinates[0]\n",
        "      iCol = coordinates[1]\n",
        "      cellNeighbor = lstCell[iRow][iCol]\n",
        "      if cellNeighbor.program == 1:\n",
        "        self.access = 1\n",
        "        return self.access\n",
        "\n",
        "  def detectNeighbor(self):\n",
        "    self.lstRawNeighbor = [[self.row + 1, self.col],[self.row, self.col + 1],\n",
        "                           [self.row - 1, self.col],[self.row, self.col - 1]]\n",
        "    self.lstNeighbor = [coordinates for coordinates in self.lstRawNeighbor if \n",
        "                        (coordinates[0] in range(0,self.maxRow) and coordinates[1] in range(0,self.maxCol))]\n",
        "    return self.lstNeighbor\n",
        "\n",
        "#------------------------------------------------------------------------\n",
        "#THE GAME\n",
        "#rnd.seed(5)\n",
        "#------------------------------------------------------------------------\n",
        "#ELEVATOR LOBBY\n",
        "def createElevatorLobby (elevLobbyAmount,straight,lstCell,mapCore,iProgram):\n",
        "  cElevLobby = []\n",
        "  lstAvailableStart = []\n",
        "  for i,row in enumerate(lstCell):\n",
        "    for j,block in enumerate(row):\n",
        "      if block.accessOut == 1 and block.corner == 0 and block.program == 0:\n",
        "        lstAvailableStart.append([i,j])\n",
        "  iStart = rnd.randint(0,len(lstAvailableStart)-1)\n",
        "  iRow = lstAvailableStart[iStart][0]\n",
        "  iCol = lstAvailableStart[iStart][1]\n",
        "  elevLobbyStart = lstCell[iRow][iCol]\n",
        "  elevLobbyStart.assign(iProgram,mapCore)\n",
        "  cElevLobby.append([iRow,iCol])\n",
        "\n",
        "  if straight == 1:\n",
        "    if elevLobbyStart.row == 0:\n",
        "      coX,coY = 1,0\n",
        "    elif elevLobbyStart.row == elevLobbyStart.maxRow-1:\n",
        "      coX,coY = -1,0\n",
        "    elif elevLobbyStart.col == 0:\n",
        "      coX,coY = 0,1\n",
        "    elif elevLobbyStart.col == elevLobbyStart.maxCol-1:\n",
        "      coX,coY = 0,-1\n",
        "      \n",
        "    cellLast = elevLobbyStart\n",
        "    for i in range(elevLobbyAmount-1):\n",
        "      if lstCell[cellLast.row + 1*coX][cellLast.col + 1*coY].program == 0:\n",
        "        cellNext = lstCell[cellLast.row + 1*coX][cellLast.col + 1*coY]\n",
        "        cellNext.assign(iProgram, mapCore)\n",
        "        cElevLobby.append([cellLast.row + 1*coX,cellLast.col + 1*coY])\n",
        "        cellLast = cellNext\n",
        "      elif not muted:\n",
        "        print ('Not Enough room for ' + legendProgram[iProgram][1])\n",
        "        break\n",
        "\n",
        "  else:\n",
        "    cellLast = elevLobbyStart\n",
        "    for i in range(elevLobbyAmount-1):\n",
        "      lstRawNeighbor = cellLast.lstNeighbor\n",
        "      lstNeighbor = [iNeighbor for iNeighbor in lstRawNeighbor \n",
        "                    if lstCell[iNeighbor[0]][iNeighbor[1]].program == 0]\n",
        "      if len(lstNeighbor) > 0:\n",
        "        iNext = rnd.randint(0,len(lstNeighbor)-1)\n",
        "        cNext = lstNeighbor[iNext]\n",
        "        cellNext = lstCell[cNext[0]][cNext[1]]\n",
        "        cellNext.assign(iProgram,mapCore)\n",
        "        cElevLobby.append(cNext)\n",
        "        cellLast = cellNext\n",
        "      elif not muted:\n",
        "        print ('Not Enough room for ' + legendProgram[iProgram][1])\n",
        "        break\n",
        "  return cElevLobby\n",
        "\n",
        "def cluster(lstElev):\n",
        "  rnd.shuffle(lstElev)\n",
        "  X = lstElev\n",
        "  Z = linkage(X, method='single', metric='euclidean')\n",
        "  maxDis = 1.1\n",
        "  iCluster = fcluster(Z, maxDis, criterion='distance')\n",
        "  iCluster = iCluster.tolist()\n",
        "  newlist = [(x + [iCluster[i]]) for i,x in enumerate(lstElev)]\n",
        "  values = set(map(lambda x:x[2], newlist))\n",
        "  newlist2 = [[y[:2] for y in newlist if y[2]==x] for x in values]\n",
        "  w = ([-1,1][rnd.randrange(2)])\n",
        "  newlist3 = [sorted(sublist, key=lambda x: (w*x[0], w*x[1])) for sublist in newlist2]\n",
        "  return newlist3\n",
        "\n",
        "def assignElev(lstCell,lstCluster,cElev,mapCore,elevAmount,iProgram):\n",
        "  maxInCluster = 3\n",
        "  counter = 0\n",
        "  for j,cluster in enumerate(lstCluster):\n",
        "    innerCounter = 0\n",
        "    if len(cluster) > maxInCluster:\n",
        "      skip = len(cluster) - maxInCluster\n",
        "      skip = rnd.randint(0,skip)\n",
        "      cluster = cluster[skip:]\n",
        "    for k, coordinates in enumerate(cluster):\n",
        "      if counter < elevAmount:\n",
        "        iRow = coordinates[0]\n",
        "        iCol = coordinates[1]\n",
        "        lstCell[iRow][iCol].assign(iProgram,mapCore)\n",
        "        cElev.append(coordinates)\n",
        "        counter += 1\n",
        "        innerCounter += 1\n",
        "        if innerCounter >= 3:\n",
        "          break\n",
        "      else:\n",
        "        return\n",
        "\n",
        "def createGuestElevator(lstCell,mapCore,iProgram,cElevLobby):\n",
        "  hoistwayAmount = 2 # REFER TO IBC SECTION 3002\n",
        "  elevAmount = 5\n",
        "  cElev = []\n",
        "  lstRawElev = []\n",
        "  for i,row in enumerate(lstCell):\n",
        "    for j,block in enumerate(row):\n",
        "      if block.program == 1:\n",
        "        stuff = block.lstNeighbor\n",
        "        lstRawElev.extend(stuff)\n",
        "  lstElev = [list(i) for i in set(map(tuple, lstRawElev))]\n",
        "  lstElev = [c for c in lstElev if c not in cElevLobby]\n",
        "  lstCluster = cluster(lstElev)\n",
        "  lstCluster.sort(key = len,reverse=True)\n",
        "  assignElev(lstCell,lstCluster,cElev,mapCore,elevAmount,iProgram)\n",
        "  if len(cElev)<elevAmount and not muted:\n",
        "    print ('Not Enough room for ' + legendProgram[iProgram][1])\n",
        "  return cElev\n",
        "\n",
        "def createGuestElevByClosest(elevAmount,lstCell,mapCore,iProgram,cElevLobby):\n",
        "  cList = []\n",
        "  lstRawElev = []\n",
        "  for coordinate in cElevLobby:\n",
        "    stuff = lstCell[coordinate[0]][coordinate[1]].lstNeighbor\n",
        "    lstRawElev.extend(stuff)\n",
        "  lstElev = [list(i) for i in set(map(tuple, lstRawElev))]\n",
        "  cAvail = [c for c in lstElev if c not in cElevLobby]\n",
        "  cAvail = [c for c in cAvail if lstCell[c[0]][c[1]].program == 0]\n",
        "  if len(cAvail) >= elevAmount:\n",
        "    cBase = rnd.choice(cElevLobby)\n",
        "    aBase = np.asarray(cBase).reshape(1,2)\n",
        "    aAvail = np.asarray(cAvail)\n",
        "    aDis = cdist(aBase,aAvail)\n",
        "    aOrder = np.argsort(aDis)\n",
        "    cAvail = aAvail[aOrder].tolist()[0]\n",
        "    for i in range(elevAmount):\n",
        "      coordinates = cAvail[i]\n",
        "      iRow = coordinates[0]\n",
        "      iCol = coordinates[1]\n",
        "      lstCell[iRow][iCol].assign(iProgram,mapCore)\n",
        "      cList.append(coordinates)\n",
        "  elif not muted:\n",
        "    print ('Not Enough room for ' + legendProgram[iProgram][1])\n",
        "  return cList\n",
        "\n",
        "def findAccess(lstCell):\n",
        "  lstAccess = [] \n",
        "  for row in lstCell:\n",
        "    for stuff in row:\n",
        "      stuff.detectAccess(lstCell)\n",
        "      if stuff.access == 1 and stuff.program == 0:\n",
        "        lstAccess.append(stuff.loc)\n",
        "  return lstAccess\n",
        "\n",
        "def createOneFromOpen(lstCell,mapCore,iProgram):\n",
        "  cList = []\n",
        "  lstAccess = findAccess(lstCell)\n",
        "  rnd.shuffle(lstAccess)\n",
        "  for i, coordinates in enumerate(lstAccess):\n",
        "    iRow = coordinates[0]\n",
        "    iCol = coordinates[1]\n",
        "    lstN = lstCell[iRow][iCol].lstNeighbor\n",
        "    if lstCell[iRow][iCol].program == 0:\n",
        "      lstCell[iRow][iCol].assign(iProgram,mapCore)\n",
        "      cList.append(coordinates)\n",
        "      return cList\n",
        "  if len(cList)<1 and not muted:\n",
        "    print ('Not Enough room for ' + legendProgram[iProgram][1])\n",
        "\n",
        "def createTwoFromOpen(lstCell,mapCore,iProgram):\n",
        "  cList = []\n",
        "  lstAccess = findAccess(lstCell)\n",
        "  rnd.shuffle(lstAccess)\n",
        "  for i, coordinates in enumerate(lstAccess):\n",
        "    iRow = coordinates[0]\n",
        "    iCol = coordinates[1]\n",
        "    lstN = lstCell[iRow][iCol].lstNeighbor\n",
        "    lstAvl = [c for c in lstN if lstCell[c[0]][c[1]].program == 0]\n",
        "    if len(lstAvl) > 0:\n",
        "      lstCell[iRow][iCol].assign(iProgram,mapCore)\n",
        "      cList.append(coordinates)\n",
        "      rnd.shuffle(lstAvl)\n",
        "      iRow_b = lstAvl[0][0]\n",
        "      iCol_b = lstAvl[0][1]\n",
        "      lstCell[iRow_b][iCol_b].assign(iProgram,mapCore)\n",
        "      cList.append(lstAvl[0])\n",
        "      break\n",
        "  if len(cList) < 2 and not muted:\n",
        "    print ('Not Enough room for ' + legendProgram[iProgram][1])\n",
        "  return cList\n",
        "\n",
        "def createOneFromMultiple(lstCell,mapCore,iProgram,lstBase):\n",
        "  cList = []\n",
        "  rnd.shuffle(lstBase)\n",
        "  for i, coordinates in enumerate(lstBase):\n",
        "    iRow = coordinates[0]\n",
        "    iCol = coordinates[1]\n",
        "    lstN = lstCell[iRow][iCol].lstNeighbor\n",
        "    lstAvl = [c for c in lstN if lstCell[c[0]][c[1]].program == 0]\n",
        "    if len(lstAvl) > 0:\n",
        "      rnd.shuffle(lstAvl)\n",
        "      iRow_b = lstAvl[0][0]\n",
        "      iCol_b = lstAvl[0][1]\n",
        "      lstCell[iRow_b][iCol_b].assign(iProgram,mapCore)\n",
        "      cList.append(lstAvl[0])\n",
        "      return cList\n",
        "  if len(cList)<1 and not muted:\n",
        "    print ('Not Enough room for ' + legendProgram[iProgram][1])\n",
        "\n",
        "def createTwoFromMultiple(lstCell,mapCore,iProgram,lstBase):\n",
        "  cList = []\n",
        "  rnd.shuffle(lstBase)\n",
        "  signal = 0\n",
        "  for i, coordinates in enumerate(lstBase):\n",
        "    iRow = coordinates[0]\n",
        "    iCol = coordinates[1]\n",
        "    lstN = lstCell[iRow][iCol].lstNeighbor\n",
        "    lstAvl = [c for c in lstN if lstCell[c[0]][c[1]].program == 0]\n",
        "    if len(lstAvl) > 0:\n",
        "      rnd.shuffle(lstAvl)\n",
        "      for j, coordinates_b in enumerate(lstAvl):\n",
        "        iRow_b = coordinates_b[0]\n",
        "        iCol_b = coordinates_b[1]\n",
        "        lstN_b = lstCell[iRow_b][iCol_b].lstNeighbor\n",
        "        lstAvl_b = [c_b for c_b in lstN_b if lstCell[c_b[0]][c_b[1]].program == 0 and c_b != coordinates ]\n",
        "        if len(lstAvl_b)>0:\n",
        "          lstCell[iRow_b][iCol_b].assign(iProgram,mapCore)\n",
        "          cList.append(coordinates_b)\n",
        "          rnd.shuffle(lstAvl_b)\n",
        "          iRow_c = lstAvl_b[0][0]\n",
        "          iCol_c = lstAvl_b[0][1]\n",
        "          lstCell[iRow_c][iCol_c].assign(iProgram,mapCore)\n",
        "          cList.append(lstAvl_b[0])\n",
        "          signal = 1\n",
        "          return cList\n",
        "  if len(cList)<2 and not muted:\n",
        "    print ('Not Enough room for ' + legendProgram[iProgram][1])\n",
        "\n",
        "def createOne(lstCell,mapCore,iProgram):\n",
        "  cList = []\n",
        "  lstOpen = []\n",
        "  for row in lstCell:\n",
        "    for stuff in row:\n",
        "      if stuff.program == 0:\n",
        "        lstOpen.append(stuff.loc)\n",
        "  rnd.shuffle(lstOpen)\n",
        "  coordinates = lstOpen[0]\n",
        "  iRow = coordinates[0]\n",
        "  iCol = coordinates[1]\n",
        "  lstCell[iRow][iCol].assign(iProgram,mapCore)\n",
        "  cList.append(coordinates)\n",
        "  return cList\n",
        "  if len(cList)<1 and not muted:\n",
        "    print ('Not Enough room for ' + legendProgram[iProgram][1])\n",
        "\n",
        "def rateCore(scoreInitial,mapCore):\n",
        "  score = scoreInitial - np.count_nonzero(mapCore==0)\n",
        "  return score\n",
        "\n",
        "def checkLobbyStraight(cElevLobby):\n",
        "  lobbyStraight = False\n",
        "  if cElevLobby[0][1] == cElevLobby[1][1] == cElevLobby[2][1] == cElevLobby[3][1]:\n",
        "    lobbyStraight = True\n",
        "  return lobbyStraight\n",
        "\n",
        "#------------------------------------------------------------------------\n",
        "#LOBBY\n",
        "legendProgram = [[0,' '],[1,'L_1'],[2,'GE_1'],[3,'L_2'],[4,'GE_2'],[5,'L_3'],[6,'GE_3'],\n",
        "                 [7,'V_1'],[8,'FE'],[9,'S_1'],[10,'V_2'],[11,'S_2'],[12,'ADA'],[13,'MEP'],[14,'SHAFT']]\n",
        "maxCol = 7\n",
        "maxRow = 6\n",
        "#lstCell = [[cell(i,j,maxRow,maxCol) for j in range(maxCol)] for i in range(maxRow)]\n",
        "benchMark = 10\n",
        "muted = True # Set to False only when knowing which program has not enough room is needed\n",
        "def main():\n",
        "  #Initiate\n",
        "  lstCell = [[cell(i,j,maxRow,maxCol) for j in range(maxCol)] for i in range(maxRow)]\n",
        "  mapCore = np.zeros((maxRow,maxCol)) #Creating the game map\n",
        "  #for rating the product\n",
        "  cElevLobby = createElevatorLobby(6,0,lstCell,mapCore,1)\n",
        "  #GUEST ELEVATOR\n",
        "  #cElev = createGuestElevator(lstCell,mapCore,2, cElevLobby)\n",
        "  cElev = createGuestElevByClosest(6,lstCell,mapCore,2, cElevLobby)\n",
        "  #CREATE SECOND ELEVATOR LOBBY AND ELEVATOR\n",
        "  cElevLobby2 = createElevatorLobby(3,0,lstCell,mapCore,3)\n",
        "  cElev2 = createGuestElevByClosest(5,lstCell,mapCore,4, cElevLobby2)\n",
        "  #CREATE SECOND ELEVATOR LOBBY AND ELEVATOR\n",
        "  cElevLobby3 = createElevatorLobby(3,0,lstCell,mapCore,5)\n",
        "  cElev3 = createGuestElevByClosest(4,lstCell,mapCore,6, cElevLobby3)\n",
        "  #VESTIBULE A\n",
        "  cVest_A = createTwoFromOpen(lstCell,mapCore,7)\n",
        "  #STAIR A\n",
        "  cStair_A = createTwoFromMultiple(lstCell,mapCore,9,cVest_A)\n",
        "  #FREIGHT ELEVATOR\n",
        "  cFElev_A = createOneFromMultiple(lstCell,mapCore,8,cVest_A)\n",
        "  cFElev_B = createOneFromMultiple(lstCell,mapCore,8,cVest_A)\n",
        "  #VESTIBULE B\n",
        "  cVest_B = createOneFromOpen(lstCell,mapCore,10)\n",
        "  #STAIR B\n",
        "  cStair_B = createTwoFromMultiple(lstCell,mapCore,11,cVest_B)\n",
        "  #ADA RESTROOM\n",
        "  cADA = createOneFromOpen(lstCell,mapCore,12)\n",
        "  #PLUMBING\n",
        "  cPLM = createOneFromOpen(lstCell,mapCore,13)\n",
        "  #ELECTRIC HIGH\n",
        "  cE_A = createOneFromOpen(lstCell,mapCore,13)\n",
        "  #ELECTRIC LOW\n",
        "  cE_B = createOneFromOpen(lstCell,mapCore,13)\n",
        "  #SHAFT\n",
        "  shaft_A = createOne(lstCell,mapCore,14)\n",
        "  shaft_B = createOne(lstCell,mapCore,14)\n",
        "  #Rating\n",
        "  scoreCore = rateCore(benchMark,mapCore)\n",
        "  lobbyStraight = checkLobbyStraight(cElevLobby)\n",
        "  return scoreCore, lstCell, mapCore, lobbyStraight\n"
      ],
      "metadata": {
        "id": "8mfjko9efy2K"
      },
      "execution_count": null,
      "outputs": []
    },
    {
      "cell_type": "code",
      "source": [
        "#ONE TIME TESTING AND RENDERING\n",
        "scoreCore,lstCell,mapCore,lobbyStraight = main()\n",
        "print (scoreCore)\n",
        "lstText = []\n",
        "for row in lstCell:\n",
        "  for stuff in row:\n",
        "    for t in legendProgram:\n",
        "      if stuff.program == t[0]:\n",
        "        lstText.append(t[1])\n",
        "        break\n",
        "mapProgram = np.array(lstText)\n",
        "mapProgram2 = np.reshape(mapProgram,(maxRow,maxCol))\n",
        "plt.clf()\n",
        "ax = sns.heatmap(mapCore, cmap=\"inferno_r\", annot=mapProgram2, annot_kws={'fontsize': 10},fmt='',vmin=0, vmax=len(legendProgram))"
      ],
      "metadata": {
        "colab": {
          "base_uri": "https://localhost:8080/",
          "height": 283
        },
        "id": "zcjb6LvE4CLU",
        "outputId": "d26b5eec-c27d-45fa-9499-8f8bc07b33af"
      },
      "execution_count": null,
      "outputs": [
        {
          "output_type": "stream",
          "name": "stdout",
          "text": [
            "6\n"
          ]
        },
        {
          "output_type": "display_data",
          "data": {
            "text/plain": [
              "<Figure size 432x288 with 2 Axes>"
            ],
            "image/png": "[encoded data removed]"
          },
          "metadata": {
            "needs_background": "light"
          }
        }
      ]
    },
    {
      "cell_type": "code",
      "source": [
        "#LOOP UNTIL ONE INCIDENCE OF SUCCESS\n",
        "for i in range(100):\n",
        "  scoreCore,lstCell,mapCore,lobbyStraight = main()\n",
        "  if scoreCore >= benchMark:\n",
        "    print ('ONE SUCCESS AFTER ' + str(i) + ' ATTEMPTS')\n",
        "    lstText = []\n",
        "    for row in lstCell:\n",
        "      for stuff in row:\n",
        "        for t in legendProgram:\n",
        "          if stuff.program == t[0]:\n",
        "            lstText.append(t[1])\n",
        "            break\n",
        "    mapProgram = np.array(lstText)\n",
        "    mapProgram2 = np.reshape(mapProgram,(maxRow,maxCol))\n",
        "    plt.clf()\n",
        "    ax = sns.heatmap(mapCore, cmap=\"inferno_r\", annot=mapProgram2, annot_kws={'fontsize': 10},fmt='',vmin=0, vmax=len(legendProgram))\n",
        "    break"
      ],
      "metadata": {
        "colab": {
          "base_uri": "https://localhost:8080/",
          "height": 283
        },
        "id": "OrmCvpjCgjMR",
        "outputId": "8e61243c-359b-4b06-8b9c-e8d9ff6be523"
      },
      "execution_count": null,
      "outputs": [
        {
          "output_type": "stream",
          "name": "stdout",
          "text": [
            "ONE SUCCESS AFTER 39 ATTEMPTS\n"
          ]
        },
        {
          "output_type": "display_data",
          "data": {
            "text/plain": [
              "<Figure size 432x288 with 2 Axes>"
            ],
            "image/png": "[encoded data removed]"
          },
          "metadata": {
            "needs_background": "light"
          }
        }
      ]
    },
    {
      "cell_type": "code",
      "source": [
        "counter = 0\n",
        "repetition = 20000\n",
        "for i in tqdm(range(repetition)):\n",
        "  scoreCore, lstCell, mapCore, lobbyStraight = main()\n",
        "  if scoreCore == benchMark:\n",
        "    counter += 1\n",
        "    lstText = []\n",
        "    for row in lstCell:\n",
        "      for stuff in row:\n",
        "        for t in legendProgram:\n",
        "          if stuff.program == t[0]:\n",
        "            lstText.append(t[1])\n",
        "            break\n",
        "    mapProgram = np.array(lstText)\n",
        "    mapProgram2 = np.reshape(mapProgram,(maxRow,maxCol))\n",
        "    plt.clf()\n",
        "    ax = sns.heatmap(mapCore, cmap=\"inferno_r\", annot=mapProgram2, annot_kws={'fontsize': 10},fmt='',vmin=0, vmax=len(legendProgram))\n",
        "    timestr = time.strftime(\"%Y%m%d-%H%M%S\")\n",
        "    dir = '/content/gdrive/My Drive/GENSLER/SMART_TOOLKIT/01_CORE_LAYOUT/PLOT/20230106/'\n",
        "    #if lobbyStraight:\n",
        "      #print ('Got one straight @ ' + timestr + str(counter))\n",
        "      #fig = ax.figure.savefig(dir + 'lobbyStraight/' + timestr + str(counter) + '.png') \n",
        "    #else:\n",
        "      #fig = ax.figure.savefig(dir + timestr + str(counter) + '.png') \n",
        "    fig = ax.figure.savefig(dir + timestr + str(counter) + '.png')\n",
        "  if i == repetition-1:\n",
        "    print (str(counter) + 'layouts have been saved')"
      ],
      "metadata": {
        "id": "eK2yOlVh4AIW",
        "colab": {
          "base_uri": "https://localhost:8080/",
          "height": 653
        },
        "outputId": "537d66c9-70ae-4eb1-c188-2d56ad53aff3"
      },
      "execution_count": null,
      "outputs": [
        {
          "output_type": "stream",
          "name": "stderr",
          "text": [
            " 57%|█████▋    | 11434/20000 [00:48<00:36, 237.20it/s]\n"
          ]
        },
        {
          "output_type": "error",
          "ename": "TypeError",
          "evalue": "ignored",
          "traceback": [
            "\u001b[0;31m---------------------------------------------------------------------------\u001b[0m",
            "\u001b[0;31mTypeError\u001b[0m                                 Traceback (most recent call last)",
            "\u001b[0;32m<ipython-input-75-98710dc850a0>\u001b[0m in \u001b[0;36m<module>\u001b[0;34m\u001b[0m\n\u001b[1;32m      2\u001b[0m \u001b[0mrepetition\u001b[0m \u001b[0;34m=\u001b[0m \u001b[0;36m20000\u001b[0m\u001b[0;34m\u001b[0m\u001b[0;34m\u001b[0m\u001b[0m\n\u001b[1;32m      3\u001b[0m \u001b[0;32mfor\u001b[0m \u001b[0mi\u001b[0m \u001b[0;32min\u001b[0m \u001b[0mtqdm\u001b[0m\u001b[0;34m(\u001b[0m\u001b[0mrange\u001b[0m\u001b[0;34m(\u001b[0m\u001b[0mrepetition\u001b[0m\u001b[0;34m)\u001b[0m\u001b[0;34m)\u001b[0m\u001b[0;34m:\u001b[0m\u001b[0;34m\u001b[0m\u001b[0;34m\u001b[0m\u001b[0m\n\u001b[0;32m----> 4\u001b[0;31m   \u001b[0mscoreCore\u001b[0m\u001b[0;34m,\u001b[0m \u001b[0mlstCell\u001b[0m\u001b[0;34m,\u001b[0m \u001b[0mmapCore\u001b[0m\u001b[0;34m,\u001b[0m \u001b[0mlobbyStraight\u001b[0m \u001b[0;34m=\u001b[0m \u001b[0mmain\u001b[0m\u001b[0;34m(\u001b[0m\u001b[0;34m)\u001b[0m\u001b[0;34m\u001b[0m\u001b[0;34m\u001b[0m\u001b[0m\n\u001b[0m\u001b[1;32m      5\u001b[0m   \u001b[0;32mif\u001b[0m \u001b[0mscoreCore\u001b[0m \u001b[0;34m==\u001b[0m \u001b[0mbenchMark\u001b[0m\u001b[0;34m:\u001b[0m\u001b[0;34m\u001b[0m\u001b[0;34m\u001b[0m\u001b[0m\n\u001b[1;32m      6\u001b[0m     \u001b[0mcounter\u001b[0m \u001b[0;34m+=\u001b[0m \u001b[0;36m1\u001b[0m\u001b[0;34m\u001b[0m\u001b[0;34m\u001b[0m\u001b[0m\n",
            "\u001b[0;32m<ipython-input-73-cca00fda8ee2>\u001b[0m in \u001b[0;36mmain\u001b[0;34m()\u001b[0m\n\u001b[1;32m    344\u001b[0m   \u001b[0mcVest_B\u001b[0m \u001b[0;34m=\u001b[0m \u001b[0mcreateOneFromOpen\u001b[0m\u001b[0;34m(\u001b[0m\u001b[0mlstCell\u001b[0m\u001b[0;34m,\u001b[0m\u001b[0mmapCore\u001b[0m\u001b[0;34m,\u001b[0m\u001b[0;36m10\u001b[0m\u001b[0;34m)\u001b[0m\u001b[0;34m\u001b[0m\u001b[0;34m\u001b[0m\u001b[0m\n\u001b[1;32m    345\u001b[0m   \u001b[0;31m#STAIR B\u001b[0m\u001b[0;34m\u001b[0m\u001b[0;34m\u001b[0m\u001b[0;34m\u001b[0m\u001b[0m\n\u001b[0;32m--> 346\u001b[0;31m   \u001b[0mcStair_B\u001b[0m \u001b[0;34m=\u001b[0m \u001b[0mcreateTwoFromMultiple\u001b[0m\u001b[0;34m(\u001b[0m\u001b[0mlstCell\u001b[0m\u001b[0;34m,\u001b[0m\u001b[0mmapCore\u001b[0m\u001b[0;34m,\u001b[0m\u001b[0;36m11\u001b[0m\u001b[0;34m,\u001b[0m\u001b[0mcVest_B\u001b[0m\u001b[0;34m)\u001b[0m\u001b[0;34m\u001b[0m\u001b[0;34m\u001b[0m\u001b[0m\n\u001b[0m\u001b[1;32m    347\u001b[0m   \u001b[0;31m#ADA RESTROOM\u001b[0m\u001b[0;34m\u001b[0m\u001b[0;34m\u001b[0m\u001b[0;34m\u001b[0m\u001b[0m\n\u001b[1;32m    348\u001b[0m   \u001b[0mcADA\u001b[0m \u001b[0;34m=\u001b[0m \u001b[0mcreateOneFromOpen\u001b[0m\u001b[0;34m(\u001b[0m\u001b[0mlstCell\u001b[0m\u001b[0;34m,\u001b[0m\u001b[0mmapCore\u001b[0m\u001b[0;34m,\u001b[0m\u001b[0;36m12\u001b[0m\u001b[0;34m)\u001b[0m\u001b[0;34m\u001b[0m\u001b[0;34m\u001b[0m\u001b[0m\n",
            "\u001b[0;32m<ipython-input-73-cca00fda8ee2>\u001b[0m in \u001b[0;36mcreateTwoFromMultiple\u001b[0;34m(lstCell, mapCore, iProgram, lstBase)\u001b[0m\n\u001b[1;32m    256\u001b[0m \u001b[0;32mdef\u001b[0m \u001b[0mcreateTwoFromMultiple\u001b[0m\u001b[0;34m(\u001b[0m\u001b[0mlstCell\u001b[0m\u001b[0;34m,\u001b[0m\u001b[0mmapCore\u001b[0m\u001b[0;34m,\u001b[0m\u001b[0miProgram\u001b[0m\u001b[0;34m,\u001b[0m\u001b[0mlstBase\u001b[0m\u001b[0;34m)\u001b[0m\u001b[0;34m:\u001b[0m\u001b[0;34m\u001b[0m\u001b[0;34m\u001b[0m\u001b[0m\n\u001b[1;32m    257\u001b[0m   \u001b[0mcList\u001b[0m \u001b[0;34m=\u001b[0m \u001b[0;34m[\u001b[0m\u001b[0;34m]\u001b[0m\u001b[0;34m\u001b[0m\u001b[0;34m\u001b[0m\u001b[0m\n\u001b[0;32m--> 258\u001b[0;31m   \u001b[0mrnd\u001b[0m\u001b[0;34m.\u001b[0m\u001b[0mshuffle\u001b[0m\u001b[0;34m(\u001b[0m\u001b[0mlstBase\u001b[0m\u001b[0;34m)\u001b[0m\u001b[0;34m\u001b[0m\u001b[0;34m\u001b[0m\u001b[0m\n\u001b[0m\u001b[1;32m    259\u001b[0m   \u001b[0msignal\u001b[0m \u001b[0;34m=\u001b[0m \u001b[0;36m0\u001b[0m\u001b[0;34m\u001b[0m\u001b[0;34m\u001b[0m\u001b[0m\n\u001b[1;32m    260\u001b[0m   \u001b[0;32mfor\u001b[0m \u001b[0mi\u001b[0m\u001b[0;34m,\u001b[0m \u001b[0mcoordinates\u001b[0m \u001b[0;32min\u001b[0m \u001b[0menumerate\u001b[0m\u001b[0;34m(\u001b[0m\u001b[0mlstBase\u001b[0m\u001b[0;34m)\u001b[0m\u001b[0;34m:\u001b[0m\u001b[0;34m\u001b[0m\u001b[0;34m\u001b[0m\u001b[0m\n",
            "\u001b[0;32m/usr/lib/python3.8/random.py\u001b[0m in \u001b[0;36mshuffle\u001b[0;34m(self, x, random)\u001b[0m\n\u001b[1;32m    302\u001b[0m         \u001b[0;32mif\u001b[0m \u001b[0mrandom\u001b[0m \u001b[0;32mis\u001b[0m \u001b[0;32mNone\u001b[0m\u001b[0;34m:\u001b[0m\u001b[0;34m\u001b[0m\u001b[0;34m\u001b[0m\u001b[0m\n\u001b[1;32m    303\u001b[0m             \u001b[0mrandbelow\u001b[0m \u001b[0;34m=\u001b[0m \u001b[0mself\u001b[0m\u001b[0;34m.\u001b[0m\u001b[0m_randbelow\u001b[0m\u001b[0;34m\u001b[0m\u001b[0;34m\u001b[0m\u001b[0m\n\u001b[0;32m--> 304\u001b[0;31m             \u001b[0;32mfor\u001b[0m \u001b[0mi\u001b[0m \u001b[0;32min\u001b[0m \u001b[0mreversed\u001b[0m\u001b[0;34m(\u001b[0m\u001b[0mrange\u001b[0m\u001b[0;34m(\u001b[0m\u001b[0;36m1\u001b[0m\u001b[0;34m,\u001b[0m \u001b[0mlen\u001b[0m\u001b[0;34m(\u001b[0m\u001b[0mx\u001b[0m\u001b[0;34m)\u001b[0m\u001b[0;34m)\u001b[0m\u001b[0;34m)\u001b[0m\u001b[0;34m:\u001b[0m\u001b[0;34m\u001b[0m\u001b[0;34m\u001b[0m\u001b[0m\n\u001b[0m\u001b[1;32m    305\u001b[0m                 \u001b[0;31m# pick an element in x[:i+1] with which to exchange x[i]\u001b[0m\u001b[0;34m\u001b[0m\u001b[0;34m\u001b[0m\u001b[0;34m\u001b[0m\u001b[0m\n\u001b[1;32m    306\u001b[0m                 \u001b[0mj\u001b[0m \u001b[0;34m=\u001b[0m \u001b[0mrandbelow\u001b[0m\u001b[0;34m(\u001b[0m\u001b[0mi\u001b[0m\u001b[0;34m+\u001b[0m\u001b[0;36m1\u001b[0m\u001b[0;34m)\u001b[0m\u001b[0;34m\u001b[0m\u001b[0;34m\u001b[0m\u001b[0m\n",
            "\u001b[0;31mTypeError\u001b[0m: object of type 'NoneType' has no len()"
          ]
        },
        {
          "output_type": "display_data",
          "data": {
            "text/plain": [
              "<Figure size 432x288 with 2 Axes>"
            ],
            "image/png": "[encoded data removed]"
          },
          "metadata": {
            "needs_background": "light"
          }
        }
      ]
    },
    {
      "cell_type": "code",
      "source": [
        "timestr = time.strftime(\"%Y%m%d-%H%M%S\")\n",
        "fig = ax.figure.savefig('test' + timestr + '.png') \n",
        "files.download('test' + timestr + '.png')"
      ],
      "metadata": {
        "colab": {
          "base_uri": "https://localhost:8080/",
          "height": 17
        },
        "id": "kNmZOyNeA5tA",
        "outputId": "e5d49d2d-6c3a-4ad8-b7b5-0eaecde548f8"
      },
      "execution_count": null,
      "outputs": [
        {
          "output_type": "display_data",
          "data": {
            "text/plain": [
              "<IPython.core.display.Javascript object>"
            ],
            "application/javascript": [
              "\n",
              "    async function download(id, filename, size) {\n",
              "      if (!google.colab.kernel.accessAllowed) {\n",
              "        return;\n",
              "      }\n",
              "      const div = document.createElement('div');\n",
              "      const label = document.createElement('label');\n",
              "      label.textContent = `Downloading \"${filename}\": `;\n",
              "      div.appendChild(label);\n",
              "      const progress = document.createElement('progress');\n",
              "      progress.max = size;\n",
              "      div.appendChild(progress);\n",
              "      document.body.appendChild(div);\n",
              "\n",
              "      const buffers = [];\n",
              "      let downloaded = 0;\n",
              "\n",
              "      const channel = await google.colab.kernel.comms.open(id);\n",
              "      // Send a message to notify the kernel that we're ready.\n",
              "      channel.send({})\n",
              "\n",
              "      for await (const message of channel.messages) {\n",
              "        // Send a message to notify the kernel that we're ready.\n",
              "        channel.send({})\n",
              "        if (message.buffers) {\n",
              "          for (const buffer of message.buffers) {\n",
              "            buffers.push(buffer);\n",
              "            downloaded += buffer.byteLength;\n",
              "            progress.value = downloaded;\n",
              "          }\n",
              "        }\n",
              "      }\n",
              "      const blob = new Blob(buffers, {type: 'application/binary'});\n",
              "      const a = document.createElement('a');\n",
              "      a.href = window.URL.createObjectURL(blob);\n",
              "      a.download = filename;\n",
              "      div.appendChild(a);\n",
              "      a.click();\n",
              "      div.remove();\n",
              "    }\n",
              "  "
            ]
          },
          "metadata": {}
        },
        {
          "output_type": "display_data",
          "data": {
            "text/plain": [
              "<IPython.core.display.Javascript object>"
            ],
            "application/javascript": [
              "download(\"download_f9432e4f-4563-4505-902e-cde4f7bbd15a\", \"test20220914-112304.png\", 8724)"
            ]
          },
          "metadata": {}
        }
      ]
    },
    {
      "cell_type": "markdown",
      "source": [],
      "metadata": {
        "id": "zfLHOhOxoojI"
      }
    }
  ]
}
